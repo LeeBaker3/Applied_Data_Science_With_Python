{
 "cells": [
  {
   "cell_type": "markdown",
   "metadata": {},
   "source": [
    "---\n",
    "\n",
    "_You are currently looking at **version 1.5** of this notebook. To download notebooks and datafiles, as well as get help on Jupyter notebooks in the Coursera platform, visit the [Jupyter Notebook FAQ](https://www.coursera.org/learn/python-data-analysis/resources/0dhYG) course resource._\n",
    "\n",
    "---"
   ]
  },
  {
   "cell_type": "markdown",
   "metadata": {},
   "source": [
    "# Assignment 3 - More Pandas\n",
    "This assignment requires more individual learning then the last one did - you are encouraged to check out the [pandas documentation](http://pandas.pydata.org/pandas-docs/stable/) to find functions or methods you might not have used yet, or ask questions on [Stack Overflow](http://stackoverflow.com/) and tag them as pandas and python related. And of course, the discussion forums are open for interaction with your peers and the course staff."
   ]
  },
  {
   "cell_type": "markdown",
   "metadata": {},
   "source": [
    "### Question 1 (20%)\n",
    "Load the energy data from the file `Energy Indicators.xls`, which is a list of indicators of [energy supply and renewable electricity production](Energy%20Indicators.xls) from the [United Nations](http://unstats.un.org/unsd/environment/excel_file_tables/2013/Energy%20Indicators.xls) for the year 2013, and should be put into a DataFrame with the variable name of **energy**.\n",
    "\n",
    "Keep in mind that this is an Excel file, and not a comma separated values file. Also, make sure to exclude the footer and header information from the datafile. The first two columns are unneccessary, so you should get rid of them, and you should change the column labels so that the columns are:\n",
    "\n",
    "`['Country', 'Energy Supply', 'Energy Supply per Capita', '% Renewable']`\n",
    "\n",
    "Convert `Energy Supply` to gigajoules (there are 1,000,000 gigajoules in a petajoule). For all countries which have missing data (e.g. data with \"...\") make sure this is reflected as `np.NaN` values.\n",
    "\n",
    "Rename the following list of countries (for use in later questions):\n",
    "\n",
    "```\"Republic of Korea\": \"South Korea\",\n",
    "\"United States of America\": \"United States\",\n",
    "\"United Kingdom of Great Britain and Northern Ireland\": \"United Kingdom\",\n",
    "\"China, Hong Kong Special Administrative Region\": \"Hong Kong\"```\n",
    "\n",
    "There are also several countries with numbers and/or parenthesis in their name. Be sure to remove these, \n",
    "\n",
    "e.g. \n",
    "\n",
    "`'Bolivia (Plurinational State of)'` should be `'Bolivia'`, \n",
    "\n",
    "`'Switzerland17'` should be `'Switzerland'`.\n",
    "\n",
    "<br>\n",
    "\n",
    "Next, load the GDP data from the file `world_bank.csv`, which is a csv containing countries' GDP from 1960 to 2015 from [World Bank](http://data.worldbank.org/indicator/NY.GDP.MKTP.CD). Call this DataFrame **GDP**. \n",
    "\n",
    "Make sure to skip the header, and rename the following list of countries:\n",
    "\n",
    "```\"Korea, Rep.\": \"South Korea\", \n",
    "\"Iran, Islamic Rep.\": \"Iran\",\n",
    "\"Hong Kong SAR, China\": \"Hong Kong\"```\n",
    "\n",
    "<br>\n",
    "\n",
    "Finally, load the [Sciamgo Journal and Country Rank data for Energy Engineering and Power Technology](http://www.scimagojr.com/countryrank.php?category=2102) from the file `scimagojr-3.xlsx`, which ranks countries based on their journal contributions in the aforementioned area. Call this DataFrame **ScimEn**.\n",
    "\n",
    "Join the three datasets: GDP, Energy, and ScimEn into a new dataset (using the intersection of country names). Use only the last 10 years (2006-2015) of GDP data and only the top 15 countries by Scimagojr 'Rank' (Rank 1 through 15). \n",
    "\n",
    "The index of this DataFrame should be the name of the country, and the columns should be ['Rank', 'Documents', 'Citable documents', 'Citations', 'Self-citations',\n",
    "       'Citations per document', 'H index', 'Energy Supply',\n",
    "       'Energy Supply per Capita', '% Renewable', '2006', '2007', '2008',\n",
    "       '2009', '2010', '2011', '2012', '2013', '2014', '2015'].\n",
    "\n",
    "*This function should return a DataFrame with 20 columns and 15 entries.*"
   ]
  },
  {
   "cell_type": "code",
   "execution_count": 1,
   "metadata": {
    "collapsed": false
   },
   "outputs": [],
   "source": [
    "def answer_one():\n",
    "    import pandas as pd\n",
    "    import numpy as np\n",
    "\n",
    "    col_headings_energy = ['Country', 'Energy Supply', 'Energy Supply per Capita', '% Renewable']\n",
    "    energy = pd.read_excel(\"Energy Indicators.xls\", sheetname='Energy', \n",
    "                skiprows=17, skipfooter=38, na_values=['...'], \n",
    "                usecols=[2,3,4,5,6], names=col_headings_energy)\n",
    "    energy['Energy Supply'] = energy['Energy Supply'] * 1000000\n",
    "    energy['Country'] = (energy['Country']\n",
    "        .replace(to_replace='[0-9]+', value='', regex=True)\n",
    "        .replace(to_replace='[(].+', value='', regex=True)\n",
    "        .replace(to_replace=['Republic of Korea', 'United States of America',\n",
    "               'United Kingdom of Great Britain and Northern Ireland',\n",
    "               'China, Hong Kong Special Administrative Region'], \n",
    "                value=['South Korea','United States','United Kingdom','Hong Kong'])\n",
    "        .str.strip())\n",
    "\n",
    "    GDP = pd.read_csv(\"world_bank.csv\", skiprows=4, header=0)\n",
    "    GDP['Country Name'] = GDP['Country Name'].replace(to_replace=['Korea, Rep.', \n",
    "                'Iran, Islamic Rep.', 'Hong Kong SAR, China'],\n",
    "                value =['South Korea','Iran','Hong Kong'])\n",
    "\n",
    "    ScimEn =  pd.read_excel(open('scimagojr-3.xlsx','rb'), sheetname='Sheet1')\n",
    "    \n",
    "    output = None\n",
    "    local_energy = energy.copy()\n",
    "    \n",
    "    local_GDP = GDP.copy()\n",
    "    col_to_use_GDP = ['Country Name', 'Country Code', 'Indicator Code', '2006', '2007', '2008',\n",
    "       '2009', '2010', '2011', '2012', '2013', '2014', '2015']\n",
    "    local_GDP = local_GDP[col_to_use_GDP]\n",
    "    \n",
    "    local_ScimEn = ScimEn.copy()\n",
    "    local_ScimEn = (local_ScimEn\n",
    "            .sort_values(by='Rank', ascending=True)\n",
    "            .ix[:14,:])\n",
    "    \n",
    "    combined_df = pd.merge(local_ScimEn, local_GDP, how='inner', left_on='Country', right_on='Country Name')\n",
    "    combined_df = pd.merge(combined_df, local_energy, how='inner', left_on='Country', right_on='Country')\n",
    "    \n",
    "    combined_df_col_to_use = ['Country','Rank', 'Documents', 'Citable documents', 'Citations', 'Self-citations',\n",
    "       'Citations per document', 'H index', 'Energy Supply',\n",
    "       'Energy Supply per Capita', '% Renewable', '2006', '2007', '2008',\n",
    "       '2009', '2010', '2011', '2012', '2013', '2014', '2015']\n",
    "    combined_df = combined_df[combined_df_col_to_use]\n",
    "    combined_df = combined_df.set_index('Country')\n",
    "    \n",
    "    output = combined_df\n",
    "    return output"
   ]
  },
  {
   "cell_type": "markdown",
   "metadata": {},
   "source": [
    "### Question 2 (6.6%)\n",
    "The previous question joined three datasets then reduced this to just the top 15 entries. When you joined the datasets, but before you reduced this to the top 15 items, how many entries did you lose?\n",
    "\n",
    "*This function should return a single number.*"
   ]
  },
  {
   "cell_type": "code",
   "execution_count": 2,
   "metadata": {
    "collapsed": false
   },
   "outputs": [
    {
     "data": {
      "text/html": [
       "<svg width=\"800\" height=\"300\">\n",
       "  <circle cx=\"150\" cy=\"180\" r=\"80\" fill-opacity=\"0.2\" stroke=\"black\" stroke-width=\"2\" fill=\"blue\" />\n",
       "  <circle cx=\"200\" cy=\"100\" r=\"80\" fill-opacity=\"0.2\" stroke=\"black\" stroke-width=\"2\" fill=\"red\" />\n",
       "  <circle cx=\"100\" cy=\"100\" r=\"80\" fill-opacity=\"0.2\" stroke=\"black\" stroke-width=\"2\" fill=\"green\" />\n",
       "  <line x1=\"150\" y1=\"125\" x2=\"300\" y2=\"150\" stroke=\"black\" stroke-width=\"2\" fill=\"black\" stroke-dasharray=\"5,3\"/>\n",
       "  <text  x=\"300\" y=\"165\" font-family=\"Verdana\" font-size=\"35\">Everything but this!</text>\n",
       "</svg>"
      ],
      "text/plain": [
       "<IPython.core.display.HTML object>"
      ]
     },
     "metadata": {},
     "output_type": "display_data"
    }
   ],
   "source": [
    "%%HTML\n",
    "<svg width=\"800\" height=\"300\">\n",
    "  <circle cx=\"150\" cy=\"180\" r=\"80\" fill-opacity=\"0.2\" stroke=\"black\" stroke-width=\"2\" fill=\"blue\" />\n",
    "  <circle cx=\"200\" cy=\"100\" r=\"80\" fill-opacity=\"0.2\" stroke=\"black\" stroke-width=\"2\" fill=\"red\" />\n",
    "  <circle cx=\"100\" cy=\"100\" r=\"80\" fill-opacity=\"0.2\" stroke=\"black\" stroke-width=\"2\" fill=\"green\" />\n",
    "  <line x1=\"150\" y1=\"125\" x2=\"300\" y2=\"150\" stroke=\"black\" stroke-width=\"2\" fill=\"black\" stroke-dasharray=\"5,3\"/>\n",
    "  <text  x=\"300\" y=\"165\" font-family=\"Verdana\" font-size=\"35\">Everything but this!</text>\n",
    "</svg>"
   ]
  },
  {
   "cell_type": "code",
   "execution_count": 30,
   "metadata": {
    "collapsed": false
   },
   "outputs": [
    {
     "data": {
      "text/plain": [
       "667"
      ]
     },
     "execution_count": 30,
     "metadata": {},
     "output_type": "execute_result"
    }
   ],
   "source": [
    "def answer_two():\n",
    "    output = None\n",
    "    '''\n",
    "    local_energy = energy.copy()\n",
    "    \n",
    "    local_GDP = GDP.copy()\n",
    "    col_to_use_GDP = ['Country Name', 'Country Code', 'Indicator Code', '2006', '2007', '2008',\n",
    "       '2009', '2010', '2011', '2012', '2013', '2014', '2015']\n",
    "    local_GDP = local_GDP[col_to_use_GDP]\n",
    "    \n",
    "    local_ScimEn = ScimEn.copy()\n",
    "    local_ScimEn = local_ScimEn.sort_values(by='Rank', ascending=True)\n",
    "    \n",
    "    combined_df = pd.merge(local_ScimEn, local_GDP, how='outer', left_on='Country', right_on='Country Name')\n",
    "    combined_df = pd.merge(combined_df, local_energy, how='outer', left_on='Country', right_on='Country')\n",
    "    combined_df_col_to_use = ['Rank', 'Documents', 'Citable documents', 'Citations', 'Self-citations',\n",
    "       'Citations per document', 'H index', 'Energy Supply',\n",
    "       'Energy Supply per Capita', '% Renewable', '2006', '2007', '2008',\n",
    "       '2009', '2010', '2011', '2012', '2013', '2014', '2015']\n",
    "    combined_df = combined_df[combined_df_col_to_use]\n",
    "    '''\n",
    "    import pandas as pd\n",
    "    import numpy as np\n",
    "\n",
    "    col_headings_energy = ['Country', 'Energy Supply', 'Energy Supply per Capita', '% Renewable']\n",
    "    energy = pd.read_excel(\"Energy Indicators.xls\", sheetname='Energy', \n",
    "                skiprows=17, skipfooter=38, na_values=['...'], \n",
    "                usecols=[2,3,4,5,6], names=col_headings_energy)\n",
    "    energy['Energy Supply'] = energy['Energy Supply'] * 1000000\n",
    "    energy['Country'] = (energy['Country']\n",
    "        .replace(to_replace='[0-9]+', value='', regex=True)\n",
    "        .replace(to_replace='[(].+', value='', regex=True)\n",
    "        .replace(to_replace=['Republic of Korea', 'United States of America',\n",
    "               'United Kingdom of Great Britain and Northern Ireland',\n",
    "               'China, Hong Kong Special Administrative Region'], \n",
    "                value=['South Korea','United States','United Kingdom','Hong Kong'])\n",
    "        .str.strip())\n",
    "\n",
    "    GDP = pd.read_csv(\"world_bank.csv\", skiprows=4, header=0)\n",
    "    GDP['Country Name'] = GDP['Country Name'].replace(to_replace=['Korea, Rep.', \n",
    "                'Iran, Islamic Rep.', 'Hong Kong SAR, China'],\n",
    "                value =['South Korea','Iran','Hong Kong'])\n",
    "\n",
    "    ScimEn =  pd.read_excel(open('scimagojr-3.xlsx','rb'), sheetname='Sheet1')\n",
    "    \n",
    "    output = None\n",
    "    local_energy = energy.copy()\n",
    "    \n",
    "    local_GDP = GDP.copy()\n",
    "    col_to_use_GDP = ['Country Name', 'Country Code', 'Indicator Code', '2006', '2007', '2008',\n",
    "       '2009', '2010', '2011', '2012', '2013', '2014', '2015']\n",
    "    local_GDP = local_GDP[col_to_use_GDP]\n",
    "    \n",
    "    local_ScimEn = ScimEn.copy()\n",
    "    local_ScimEn = (local_ScimEn\n",
    "            .sort_values(by='Rank', ascending=True)\n",
    "            .ix[:14,:])\n",
    "    \n",
    "    combined_df = pd.merge(local_ScimEn, local_GDP, how='inner', left_on='Country', right_on='Country Name')\n",
    "    combined_df = pd.merge(combined_df, local_energy, how='inner', left_on='Country', right_on='Country')\n",
    "    \n",
    "    combined_df_col_to_use = ['Country','Rank', 'Documents', 'Citable documents', 'Citations', 'Self-citations',\n",
    "       'Citations per document', 'H index', 'Energy Supply',\n",
    "       'Energy Supply per Capita', '% Renewable', '2006', '2007', '2008',\n",
    "       '2009', '2010', '2011', '2012', '2013', '2014', '2015']\n",
    "    combined_df = combined_df[combined_df_col_to_use]\n",
    "    combined_df = combined_df.set_index('Country')\n",
    "    \n",
    "    output = combined_df\n",
    "    \n",
    "    output = (len(GDP) + len(ScimEn) + len(energy) - len(answer_one()))\n",
    "    \n",
    "    return output"
   ]
  },
  {
   "cell_type": "markdown",
   "metadata": {},
   "source": [
    "<br>\n",
    "\n",
    "Answer the following questions in the context of only the top 15 countries by Scimagojr Rank (aka the DataFrame returned by `answer_one()`)"
   ]
  },
  {
   "cell_type": "markdown",
   "metadata": {},
   "source": [
    "### Question 3 (6.6%)\n",
    "What is the average GDP over the last 10 years for each country? (exclude missing values from this calculation.)\n",
    "\n",
    "*This function should return a Series named `avgGDP` with 15 countries and their average GDP sorted in descending order.*"
   ]
  },
  {
   "cell_type": "code",
   "execution_count": 4,
   "metadata": {
    "collapsed": false,
    "scrolled": true
   },
   "outputs": [],
   "source": [
    "def answer_three():\n",
    "    output = None\n",
    "    Top15 = answer_one()\n",
    "    rows = ['2006', '2007', '2008','2009', '2010', '2011', '2012', '2013', '2014', '2015']\n",
    "    \n",
    "    Top15['avgGDP'] = Top15[rows].mean(axis=1, skipna=True, numeric_only=True)\n",
    "    Top15 = Top15.sort_values(by='avgGDP', ascending=False)\n",
    "    \n",
    "    output = Top15['avgGDP']\n",
    "    \n",
    "    return output"
   ]
  },
  {
   "cell_type": "markdown",
   "metadata": {},
   "source": [
    "### Question 4 (6.6%)\n",
    "By how much had the GDP changed over the 10 year span for the country with the 6th largest average GDP?\n",
    "\n",
    "*This function should return a single number.*"
   ]
  },
  {
   "cell_type": "code",
   "execution_count": 18,
   "metadata": {
    "collapsed": false,
    "scrolled": true
   },
   "outputs": [
    {
     "data": {
      "text/plain": [
       "299285784765.13965"
      ]
     },
     "execution_count": 18,
     "metadata": {},
     "output_type": "execute_result"
    }
   ],
   "source": [
    "def answer_four():\n",
    "    import numpy as np\n",
    "    Top15 = answer_one()\n",
    "    rows = ['2006', '2007', '2008','2009', '2010', '2011', '2012', '2013', '2014', '2015']\n",
    "    Top15['avgGDP'] = Top15[rows].mean(axis=1, skipna=True, numeric_only=True)\n",
    "    Top15['max'] = Top15[rows].max(axis=1, skipna=True, numeric_only=True)\n",
    "    Top15['min'] = Top15[rows].min(axis=1, skipna=True, numeric_only=True)\n",
    "    Top15['diff'] = Top15['max'] - Top15['min']\n",
    "    Top15 = Top15.sort_values(by='avgGDP', ascending=False)\n",
    "    Top15 = Top15.reset_index()\n",
    "    sixth = Top15.ix[5:5,:]\n",
    "    output = np.float64(sixth['diff'])\n",
    "    return output"
   ]
  },
  {
   "cell_type": "markdown",
   "metadata": {},
   "source": [
    "### Question 5 (6.6%)\n",
    "What is the mean `Energy Supply per Capita`?\n",
    "\n",
    "*This function should return a single number.*"
   ]
  },
  {
   "cell_type": "code",
   "execution_count": 6,
   "metadata": {
    "collapsed": false
   },
   "outputs": [],
   "source": [
    "def answer_five():\n",
    "    Top15 = answer_one()\n",
    "    output = Top15['Energy Supply per Capita'].mean(axis=0)\n",
    "    return output"
   ]
  },
  {
   "cell_type": "markdown",
   "metadata": {},
   "source": [
    "### Question 6 (6.6%)\n",
    "What country has the maximum % Renewable and what is the percentage?\n",
    "\n",
    "*This function should return a tuple with the name of the country and the percentage.*"
   ]
  },
  {
   "cell_type": "code",
   "execution_count": 7,
   "metadata": {
    "collapsed": false
   },
   "outputs": [],
   "source": [
    "def answer_six():\n",
    "    Top15 = answer_one()\n",
    "    max_percentage = Top15['% Renewable'].max(axis=0)\n",
    "    output = Top15.loc[Top15['% Renewable'] == max_percentage]\n",
    "    output = output.reset_index()\n",
    "    output2 = list(zip(output['Country'], output['% Renewable']))\n",
    "    return output2[0]"
   ]
  },
  {
   "cell_type": "markdown",
   "metadata": {},
   "source": [
    "### Question 7 (6.6%)\n",
    "Create a new column that is the ratio of Self-Citations to Total Citations. \n",
    "What is the maximum value for this new column, and what country has the highest ratio?\n",
    "\n",
    "*This function should return a tuple with the name of the country and the ratio.*"
   ]
  },
  {
   "cell_type": "code",
   "execution_count": 19,
   "metadata": {
    "collapsed": false
   },
   "outputs": [
    {
     "data": {
      "text/plain": [
       "('Russian Federation', 243.65271292867493)"
      ]
     },
     "execution_count": 19,
     "metadata": {},
     "output_type": "execute_result"
    }
   ],
   "source": [
    "def answer_seven():\n",
    "    Top15 = answer_one()\n",
    "    total_Citations = Top15['Citations'].sum(axis=0)\n",
    "    Top15['Ratio'] = total_Citations / Top15['Self-citations']\n",
    "    max_ratio = Top15['Ratio'].max(axis=0)\n",
    "    output = Top15.loc[Top15['Ratio'] == max_ratio]\n",
    "    output = output.reset_index()\n",
    "    output2 = list(zip(output['Country'], output['Ratio']))\n",
    "    return output2[0]"
   ]
  },
  {
   "cell_type": "markdown",
   "metadata": {},
   "source": [
    "### Question 8 (6.6%)\n",
    "\n",
    "Create a column that estimates the population using Energy Supply and Energy Supply per capita. \n",
    "What is the third most populous country according to this estimate?\n",
    "\n",
    "*This function should return a single string value.*"
   ]
  },
  {
   "cell_type": "code",
   "execution_count": 9,
   "metadata": {
    "collapsed": false
   },
   "outputs": [],
   "source": [
    "def answer_eight():\n",
    "    Top15 = None\n",
    "    Top15 = answer_one()\n",
    "    Top15['pop'] = Top15['Energy Supply'] / Top15['Energy Supply per Capita']\n",
    "    Top15 = Top15.sort_values(by='pop', ascending=False)\n",
    "    third = Top15.ix[2:3,:]\n",
    "    output = third.index.tolist()\n",
    "    return str(output[0])"
   ]
  },
  {
   "cell_type": "markdown",
   "metadata": {},
   "source": [
    "### Question 9 (6.6%)\n",
    "Create a column that estimates the number of citable documents per person. \n",
    "What is the correlation between the number of citable documents per capita and the energy supply per capita? Use the `.corr()` method, (Pearson's correlation).\n",
    "\n",
    "*This function should return a single number.*\n",
    "\n",
    "*(Optional: Use the built-in function `plot9()` to visualize the relationship between Energy Supply per Capita vs. Citable docs per Capita)*"
   ]
  },
  {
   "cell_type": "code",
   "execution_count": 10,
   "metadata": {
    "collapsed": false
   },
   "outputs": [],
   "source": [
    "def answer_nine():\n",
    "    Top15 = answer_one()\n",
    "    Top15['pop'] = Top15['Energy Supply'] / Top15['Energy Supply per Capita']\n",
    "    Top15['Citable documents per capita'] = Top15['Citable documents'] / Top15['pop']\n",
    "    output = Top15['Citable documents per capita'].corr(Top15['Energy Supply per Capita'])\n",
    "    return output"
   ]
  },
  {
   "cell_type": "code",
   "execution_count": 11,
   "metadata": {
    "collapsed": false
   },
   "outputs": [],
   "source": [
    "#def plot9():\n",
    "#    import matplotlib as plt\n",
    "#    %matplotlib inline\n",
    "    \n",
    "#    Top15 = answer_one()\n",
    "#    Top15['PopEst'] = Top15['Energy Supply'] / Top15['Energy Supply per Capita']\n",
    "#    Top15['Citable docs per Capita'] = Top15['Citable documents'] / Top15['PopEst']\n",
    "#    Top15.plot(x='Citable docs per Capita', y='Energy Supply per Capita', kind='scatter', xlim=[0, 0.0006])\n"
   ]
  },
  {
   "cell_type": "code",
   "execution_count": 12,
   "metadata": {
    "collapsed": false
   },
   "outputs": [],
   "source": [
    "#plot9() # Be sure to comment out plot9() before submitting the assignment!"
   ]
  },
  {
   "cell_type": "markdown",
   "metadata": {},
   "source": [
    "### Question 10 (6.6%)\n",
    "Create a new column with a 1 if the country's % Renewable value is at or above the median for all countries in the top 15, and a 0 if the country's % Renewable value is below the median.\n",
    "\n",
    "*This function should return a series named `HighRenew` whose index is the country name sorted in ascending order of rank.*"
   ]
  },
  {
   "cell_type": "code",
   "execution_count": 13,
   "metadata": {
    "collapsed": false
   },
   "outputs": [],
   "source": [
    "def answer_ten():\n",
    "    Top15 = answer_one()\n",
    "    median_Renewable = Top15['% Renewable'].median(axis=0, skipna=True)\n",
    "    Top15 = Top15.sort_values(by='Rank', ascending=True)\n",
    "    Top15['ZeroOrOne'] = Top15['% Renewable'].apply(lambda x: 1 if (x >= median_Renewable) else 0)\n",
    "    HighRenew = Top15['ZeroOrOne']\n",
    "    HighRenew.name = 'HighRenew'\n",
    "    return HighRenew"
   ]
  },
  {
   "cell_type": "markdown",
   "metadata": {},
   "source": [
    "### Question 11 (6.6%)\n",
    "Use the following dictionary to group the Countries by Continent, then create a dateframe that displays the sample size (the number of countries in each continent bin), and the sum, mean, and std deviation for the estimated population of each country.\n",
    "\n",
    "```python\n",
    "ContinentDict  = {'China':'Asia', \n",
    "                  'United States':'North America', \n",
    "                  'Japan':'Asia', \n",
    "                  'United Kingdom':'Europe', \n",
    "                  'Russian Federation':'Europe', \n",
    "                  'Canada':'North America', \n",
    "                  'Germany':'Europe', \n",
    "                  'India':'Asia',\n",
    "                  'France':'Europe', \n",
    "                  'South Korea':'Asia', \n",
    "                  'Italy':'Europe', \n",
    "                  'Spain':'Europe', \n",
    "                  'Iran':'Asia',\n",
    "                  'Australia':'Australia', \n",
    "                  'Brazil':'South America'}\n",
    "```\n",
    "\n",
    "*This function should return a DataFrame with index named Continent `['Asia', 'Australia', 'Europe', 'North America', 'South America']` and columns `['size', 'sum', 'mean', 'std']`*"
   ]
  },
  {
   "cell_type": "code",
   "execution_count": 36,
   "metadata": {
    "collapsed": false
   },
   "outputs": [
    {
     "data": {
      "text/html": [
       "<div>\n",
       "<table border=\"1\" class=\"dataframe\">\n",
       "  <thead>\n",
       "    <tr style=\"text-align: right;\">\n",
       "      <th></th>\n",
       "      <th>size</th>\n",
       "      <th>sum</th>\n",
       "      <th>mean</th>\n",
       "      <th>std</th>\n",
       "    </tr>\n",
       "    <tr>\n",
       "      <th>Continent</th>\n",
       "      <th></th>\n",
       "      <th></th>\n",
       "      <th></th>\n",
       "      <th></th>\n",
       "    </tr>\n",
       "  </thead>\n",
       "  <tbody>\n",
       "    <tr>\n",
       "      <th>Asia</th>\n",
       "      <td>5</td>\n",
       "      <td>2.898666e+09</td>\n",
       "      <td>5.797333e+08</td>\n",
       "      <td>6.790979e+08</td>\n",
       "    </tr>\n",
       "    <tr>\n",
       "      <th>Australia</th>\n",
       "      <td>1</td>\n",
       "      <td>2.331602e+07</td>\n",
       "      <td>2.331602e+07</td>\n",
       "      <td>NaN</td>\n",
       "    </tr>\n",
       "    <tr>\n",
       "      <th>Europe</th>\n",
       "      <td>6</td>\n",
       "      <td>4.579297e+08</td>\n",
       "      <td>7.632161e+07</td>\n",
       "      <td>3.464767e+07</td>\n",
       "    </tr>\n",
       "    <tr>\n",
       "      <th>North America</th>\n",
       "      <td>2</td>\n",
       "      <td>3.528552e+08</td>\n",
       "      <td>1.764276e+08</td>\n",
       "      <td>1.996696e+08</td>\n",
       "    </tr>\n",
       "    <tr>\n",
       "      <th>South America</th>\n",
       "      <td>1</td>\n",
       "      <td>2.059153e+08</td>\n",
       "      <td>2.059153e+08</td>\n",
       "      <td>NaN</td>\n",
       "    </tr>\n",
       "  </tbody>\n",
       "</table>\n",
       "</div>"
      ],
      "text/plain": [
       "               size           sum          mean           std\n",
       "Continent                                                    \n",
       "Asia              5  2.898666e+09  5.797333e+08  6.790979e+08\n",
       "Australia         1  2.331602e+07  2.331602e+07           NaN\n",
       "Europe            6  4.579297e+08  7.632161e+07  3.464767e+07\n",
       "North America     2  3.528552e+08  1.764276e+08  1.996696e+08\n",
       "South America     1  2.059153e+08  2.059153e+08           NaN"
      ]
     },
     "execution_count": 36,
     "metadata": {},
     "output_type": "execute_result"
    }
   ],
   "source": [
    "def answer_eleven():\n",
    "    import pandas as pd\n",
    "    import numpy as np\n",
    "    Top15 = answer_one()\n",
    "    Top15 = Top15.reset_index()\n",
    "    Top15['pop'] = Top15['Energy Supply'] / Top15['Energy Supply per Capita']\n",
    "    \n",
    "    ContinentDict  = {'China':'Asia', \n",
    "                  'United States':'North America', \n",
    "                  'Japan':'Asia', \n",
    "                  'United Kingdom':'Europe', \n",
    "                  'Russian Federation':'Europe', \n",
    "                  'Canada':'North America', \n",
    "                  'Germany':'Europe', \n",
    "                  'India':'Asia',\n",
    "                  'France':'Europe', \n",
    "                  'South Korea':'Asia', \n",
    "                  'Italy':'Europe', \n",
    "                  'Spain':'Europe', \n",
    "                  'Iran':'Asia',\n",
    "                  'Australia':'Australia', \n",
    "                  'Brazil':'South America'}\n",
    "    \n",
    "    new_dataframe = pd.DataFrame()\n",
    "    new_dataframe['Country'] = ContinentDict.keys()\n",
    "    new_dataframe['Continent'] = ContinentDict.values()\n",
    "    \n",
    "    combined_df = pd.merge(Top15, new_dataframe, how='inner', left_on='Country', right_on='Country')\n",
    "    aggregations = {'Country':{\n",
    "        'size':'count'\n",
    "    },\n",
    "    'pop':{\n",
    "        'sum': sum,\n",
    "        'mean': np.mean,\n",
    "        'std': np.std\n",
    "    }}\n",
    "    combined_df = combined_df.set_index('Continent').groupby(level=0).agg(aggregations)\n",
    "    combined_df.columns = combined_df.columns.droplevel(0)\n",
    "    \n",
    "    return combined_df"
   ]
  },
  {
   "cell_type": "markdown",
   "metadata": {},
   "source": [
    "### Question 12 (6.6%)\n",
    "Cut % Renewable into 5 bins. Group Top15 by the Continent, as well as these new % Renewable bins. How many countries are in each of these groups?\n",
    "\n",
    "*This function should return a __Series__ with a MultiIndex of `Continent`, then the bins for `% Renewable`. Do not include groups with no countries.*"
   ]
  },
  {
   "cell_type": "code",
   "execution_count": 34,
   "metadata": {
    "collapsed": false,
    "scrolled": true
   },
   "outputs": [
    {
     "data": {
      "text/plain": [
       "Continent      Bins            \n",
       "Asia           (2.212, 15.753]     4\n",
       "               (15.753, 29.227]    1\n",
       "Australia      (2.212, 15.753]     1\n",
       "Europe         (2.212, 15.753]     1\n",
       "               (15.753, 29.227]    3\n",
       "               (29.227, 42.701]    2\n",
       "North America  (2.212, 15.753]     1\n",
       "               (56.174, 69.648]    1\n",
       "South America  (56.174, 69.648]    1\n",
       "Name: count of countries, dtype: int64"
      ]
     },
     "execution_count": 34,
     "metadata": {},
     "output_type": "execute_result"
    }
   ],
   "source": [
    "def answer_twelve():\n",
    "    import pandas as pd\n",
    "    Top15 = answer_one()\n",
    "    Top15 = Top15.reset_index()\n",
    "    #Top15['Bins'] = pd.cut(Top15['% Renewable'], 5)\n",
    "    \n",
    "    ContinentDict  = {'China':'Asia', \n",
    "                  'United States':'North America', \n",
    "                  'Japan':'Asia', \n",
    "                  'United Kingdom':'Europe', \n",
    "                  'Russian Federation':'Europe', \n",
    "                  'Canada':'North America', \n",
    "                  'Germany':'Europe', \n",
    "                  'India':'Asia',\n",
    "                  'France':'Europe', \n",
    "                  'South Korea':'Asia', \n",
    "                  'Italy':'Europe', \n",
    "                  'Spain':'Europe', \n",
    "                  'Iran':'Asia',\n",
    "                  'Australia':'Australia', \n",
    "                  'Brazil':'South America'}\n",
    "    \n",
    "    new_dataframe = pd.DataFrame()\n",
    "    new_dataframe['Country'] = ContinentDict.keys()\n",
    "    new_dataframe['Continent'] = ContinentDict.values()\n",
    "    \n",
    "    combined_df = pd.merge(Top15, new_dataframe, how='inner', left_on='Country', right_on='Country')\n",
    "    combined_df['Bins'] = pd.cut(combined_df['% Renewable'], 5)\n",
    "    \n",
    "    combined_df = combined_df.set_index(['Continent', 'Bins']).groupby(level=[0,1])['Country'].agg({'count of countries':'count'})\n",
    "    s = pd.Series(combined_df['count of countries'])\n",
    "    return s"
   ]
  },
  {
   "cell_type": "markdown",
   "metadata": {},
   "source": [
    "### Question 13 (6.6%)\n",
    "Convert the Population Estimate series to a string with thousands separator (using commas). Do not round the results.\n",
    "\n",
    "e.g. 317615384.61538464 -> 317,615,384.61538464\n",
    "\n",
    "*This function should return a Series `PopEst` whose index is the country name and whose values are the population estimate string.*"
   ]
  },
  {
   "cell_type": "code",
   "execution_count": 16,
   "metadata": {
    "collapsed": false,
    "scrolled": true
   },
   "outputs": [],
   "source": [
    "def answer_thirteen():\n",
    "    Top15 = answer_one()\n",
    "    Top15['Pop'] = Top15['Energy Supply'] / Top15['Energy Supply per Capita']\n",
    "    Top15['PopEst']= Top15['Pop'].map('{:,}'.format)\n",
    "    output = Top15['PopEst']\n",
    "    output.name = 'PopEst'\n",
    "    return output"
   ]
  },
  {
   "cell_type": "markdown",
   "metadata": {},
   "source": [
    "### Optional\n",
    "\n",
    "Use the built in function `plot_optional()` to see an example visualization."
   ]
  },
  {
   "cell_type": "code",
   "execution_count": 17,
   "metadata": {
    "collapsed": false,
    "scrolled": true
   },
   "outputs": [
    {
     "ename": "IndentationError",
     "evalue": "unexpected indent (<ipython-input-17-830afe4aec6d>, line 4)",
     "output_type": "error",
     "traceback": [
      "\u001b[0;36m  File \u001b[0;32m\"<ipython-input-17-830afe4aec6d>\"\u001b[0;36m, line \u001b[0;32m4\u001b[0m\n\u001b[0;31m    Top15 = answer_one()\u001b[0m\n\u001b[0m    ^\u001b[0m\n\u001b[0;31mIndentationError\u001b[0m\u001b[0;31m:\u001b[0m unexpected indent\n"
     ]
    }
   ],
   "source": [
    "#def plot_optional():\n",
    "#    import matplotlib as plt\n",
    "#    %matplotlib inline\n",
    "    Top15 = answer_one()\n",
    "#    ax = Top15.plot(x='Rank', y='% Renewable', kind='scatter', \n",
    "#                    c=['#e41a1c','#377eb8','#e41a1c','#4daf4a','#4daf4a','#377eb8','#4daf4a','#e41a1c',\n",
    "#                       '#4daf4a','#e41a1c','#4daf4a','#4daf4a','#e41a1c','#dede00','#ff7f00'], \n",
    "#                    xticks=range(1,16), s=6*Top15['2014']/10**10, alpha=.75, figsize=[16,6]);\n",
    "#\n",
    "#    for i, txt in enumerate(Top15.index):\n",
    "#        ax.annotate(txt, [Top15['Rank'][i], Top15['% Renewable'][i]], ha='center')\n",
    "#\n",
    "#    print(\"This is an example of a visualization that can be created to help understand the data. \\\n",
    "#This is a bubble chart showing % Renewable vs. Rank. The size of the bubble corresponds to the countries' \\\n",
    "#2014 GDP, and the color corresponds to the continent.\")"
   ]
  },
  {
   "cell_type": "code",
   "execution_count": null,
   "metadata": {
    "collapsed": false
   },
   "outputs": [],
   "source": [
    "#plot_optional() # Be sure to comment out plot_optional() before submitting the assignment!"
   ]
  }
 ],
 "metadata": {
  "anaconda-cloud": {},
  "coursera": {
   "course_slug": "python-data-analysis",
   "graded_item_id": "zAr06",
   "launcher_item_id": "KSSjT",
   "part_id": "SL3fU"
  },
  "kernelspec": {
   "display_name": "Python 3",
   "language": "python",
   "name": "python3"
  },
  "language_info": {
   "codemirror_mode": {
    "name": "ipython",
    "version": 3
   },
   "file_extension": ".py",
   "mimetype": "text/x-python",
   "name": "python",
   "nbconvert_exporter": "python",
   "pygments_lexer": "ipython3",
   "version": "3.6.0"
  }
 },
 "nbformat": 4,
 "nbformat_minor": 0
}
